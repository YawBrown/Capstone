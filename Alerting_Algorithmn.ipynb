{
 "cells": [
  {
   "cell_type": "code",
   "execution_count": 1,
   "id": "ed5f7468",
   "metadata": {},
   "outputs": [
    {
     "name": "stdout",
     "output_type": "stream",
     "text": [
      "MySQL connection is closed\n",
      "20220104_110231_75_105e_3B_AnalyticMS_SR_clip.tif\n"
     ]
    }
   ],
   "source": [
    "import mysql.connector\n",
    "\n",
    "\n",
    "try:\n",
    "    connection = mysql.connector.connect(host='localhost',database='remotesensingdata',user='root',password='')\n",
    "\n",
    "    sql_select_Query = \"select * from turbidity\"\n",
    "    cursor = connection.cursor()\n",
    "    cursor.execute(sql_select_Query)\n",
    "    # (DatasetID, NDTIMean, NDTIMax, NDTIMin, StandardDeviation)\n",
    "    records = cursor.fetchall()\n",
    "    #print(\"Total number of rows in table: \", cursor.rowcount)\n",
    "\n",
    "    #print(\"\\nPrinting each row\")\n",
    "    for row in records:\n",
    "        DatasetID=row[0]\n",
    "        NDTIMean=row[1]\n",
    "        NDTIMax=row[2]\n",
    "        NDTIMin=row[3]\n",
    "        StandardDeviation=row[4]\n",
    "        \n",
    "except mysql.connector.Error as e:\n",
    "    print(\"Error reading data from MySQL table\", e)\n",
    "finally:\n",
    "    if connection.is_connected():\n",
    "        connection.close()\n",
    "        cursor.close()\n",
    "        print(\"MySQL connection is closed\")\n",
    "\n",
    "print(DatasetID)\n",
    "DID=DatasetID"
   ]
  },
  {
   "cell_type": "code",
   "execution_count": 2,
   "id": "1b453a6f",
   "metadata": {},
   "outputs": [
    {
     "name": "stdout",
     "output_type": "stream",
     "text": [
      "select * from dataset\n",
      "20220104_110231_75_105e_3B_AnalyticMS_SR_clip.tif\n",
      "Eastern Region\n",
      "Kpong Reservoir\n",
      "2022-01-04\n"
     ]
    }
   ],
   "source": [
    "import mysql.connector\n",
    "connection = mysql.connector.connect(host='localhost',database='remotesensingdata',user='root',password='')\n",
    "findDate=\"select * from dataset\"\n",
    "print(findDate)\n",
    "cr = connection.cursor()\n",
    "cr.execute(findDate)\n",
    "\n",
    "records = cr.fetchall()\n",
    "\n",
    "for row in records:\n",
    "        DatasetID=row[0]\n",
    "        Location=row[1]\n",
    "        WaterBodyName=row[2]\n",
    "        CaptureTime=row[3]\n",
    "        \n",
    "        if DatasetID==DID:\n",
    "            break\n",
    "\n",
    "print(DatasetID)\n",
    "print(Location)\n",
    "print(WaterBodyName)\n",
    "print(CaptureTime)\n",
    "\n",
    "\n"
   ]
  },
  {
   "cell_type": "code",
   "execution_count": 3,
   "id": "c2cfc719",
   "metadata": {},
   "outputs": [
    {
     "name": "stdout",
     "output_type": "stream",
     "text": [
      "select * from nitrogencontent\n"
     ]
    }
   ],
   "source": [
    "import mysql.connector\n",
    "connection = mysql.connector.connect(host='localhost',database='remotesensingdata',user='root',password='')\n",
    "findDate=\"select * from nitrogencontent\"\n",
    "print(findDate)\n",
    "crt = connection.cursor()\n",
    "crt.execute(findDate)\n",
    "\n",
    "records=crt.fetchall()\n",
    "\n",
    "for row in records:\n",
    "        DatasetID=row[0]\n",
    "        GNDVIMean=row[1]\n",
    "        \n",
    "        \n",
    "        if DatasetID==DID:\n",
    "            break\n",
    "\n"
   ]
  },
  {
   "cell_type": "code",
   "execution_count": 5,
   "id": "e77f978b",
   "metadata": {},
   "outputs": [
    {
     "name": "stdout",
     "output_type": "stream",
     "text": [
      "select * from presenceofhab\n",
      "20220104_110231_75_105e_3B_AnalyticMS_SR_clip.tif\n",
      "0.114581\n",
      "0.0\n"
     ]
    }
   ],
   "source": [
    "import mysql.connector\n",
    "connection = mysql.connector.connect(host='localhost',database='remotesensingdata',user='root',password='')\n",
    "findDate=\"select * from presenceofhab\"\n",
    "print(findDate)\n",
    "ct = connection.cursor()\n",
    "ct.execute(findDate)\n",
    "\n",
    "records=ct.fetchall()\n",
    "\n",
    "for row in records:\n",
    "        DatasetID=row[0]\n",
    "        NDVIMean=row[1]\n",
    "        FAIMean=row[5]\n",
    "        \n",
    "        \n",
    "        if DatasetID==DID:\n",
    "            break\n",
    "print(DatasetID)\n",
    "print(NDVIMean)\n",
    "print(FAIMean)\n"
   ]
  },
  {
   "cell_type": "code",
   "execution_count": 4,
   "id": "5df5da1c",
   "metadata": {},
   "outputs": [
    {
     "name": "stdout",
     "output_type": "stream",
     "text": [
      "20220104_110231_75_105e_3B_AnalyticMS_SR_clip.tif\n",
      "0.0746997\n"
     ]
    }
   ],
   "source": [
    "print(DatasetID)\n",
    "print(GNDVIMean)"
   ]
  },
  {
   "cell_type": "markdown",
   "id": "83772545",
   "metadata": {},
   "source": [
    "NDTILimits=0\n",
    "GNDVILimits=0\n",
    "NDVILimits=-0.044\n",
    "FAILimits=0.008\n",
    "#Add the FAILimits=0"
   ]
  },
  {
   "cell_type": "code",
   "execution_count": 12,
   "id": "dfa01e31",
   "metadata": {},
   "outputs": [],
   "source": [
    "import smtplib"
   ]
  },
  {
   "cell_type": "code",
   "execution_count": 15,
   "id": "eb2d1dd4",
   "metadata": {},
   "outputs": [],
   "source": [
    "gmail_user = 'troysivd@gmail.com'\n",
    "gmail_password = 'Troysiv12345'\n",
    "\n",
    "sent_from = gmail_user\n",
    "to = ['Kwamboad@gmail.com']\n",
    "subject = 'Issues at '+WaterBodyName+' in the '+Location\n",
    "body = 'There are some issues at the '+WaterBodyName+' in the '+Location+' . I suggest a team is commissioned to go do further investigations and treatment of the waterboy. Please check the User Display Interface for more details to better influence your decision.\\n\\n\\n from Troy Sivan at the RemoteSensingDataHub'\n",
    "\n",
    "email_text = \"\"\"\\\n",
    "From: %s\n",
    "To: %s\n",
    "Subject: %s\n",
    "\n",
    "%s\n",
    "\"\"\" % (sent_from, \", \".join(to), subject, body)"
   ]
  },
  {
   "cell_type": "code",
   "execution_count": 10,
   "id": "0527e995",
   "metadata": {},
   "outputs": [
    {
     "name": "stdout",
     "output_type": "stream",
     "text": [
      "0.0746997\n"
     ]
    }
   ],
   "source": [
    "print(GNDVIMean)"
   ]
  },
  {
   "cell_type": "code",
   "execution_count": 16,
   "id": "c6127584",
   "metadata": {},
   "outputs": [
    {
     "name": "stdout",
     "output_type": "stream",
     "text": [
      "Email sent successfully!\n"
     ]
    }
   ],
   "source": [
    "if (NDTIMean>0) or (GNDVIMean>0) or ((NDVIMean>-0.044)and((FAIMean>0.008)or(FAIMean==0)) ):\n",
    "    try:\n",
    "       smtp_server = smtplib.SMTP_SSL('smtp.gmail.com', 465)\n",
    "       smtp_server.ehlo()\n",
    "       smtp_server.login(gmail_user, gmail_password)\n",
    "       smtp_server.sendmail(sent_from, to, email_text)\n",
    "       smtp_server.close()\n",
    "       print (\"Email sent successfully!\")\n",
    "    except Exception as ex:\n",
    "       print (\"Something went wrong….\",ex)\n",
    "    "
   ]
  }
 ],
 "metadata": {
  "kernelspec": {
   "display_name": "Python 3",
   "language": "python",
   "name": "python3"
  },
  "language_info": {
   "codemirror_mode": {
    "name": "ipython",
    "version": 3
   },
   "file_extension": ".py",
   "mimetype": "text/x-python",
   "name": "python",
   "nbconvert_exporter": "python",
   "pygments_lexer": "ipython3",
   "version": "3.9.7"
  }
 },
 "nbformat": 4,
 "nbformat_minor": 5
}
