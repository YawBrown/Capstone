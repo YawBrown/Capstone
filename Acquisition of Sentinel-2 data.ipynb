{
 "cells": [
  {
   "cell_type": "code",
   "execution_count": 2,
   "id": "ea1582e2",
   "metadata": {},
   "outputs": [],
   "source": [
    "from sentinelsat import SentinelAPI\n",
    "user='yawb'\n",
    "password='ayeley123'\n",
    "api=SentinelAPI(user,password,'https://scihub.copernicus.eu/dhus')"
   ]
  },
  {
   "cell_type": "code",
   "execution_count": 3,
   "id": "c3fb83a9",
   "metadata": {},
   "outputs": [
    {
     "data": {
      "text/plain": [
       "<folium.features.GeoJson at 0x1d74649d850>"
      ]
     },
     "execution_count": 3,
     "metadata": {},
     "output_type": "execute_result"
    }
   ],
   "source": [
    "import geopandas as gpd\n",
    "import folium\n",
    "\n",
    "nReserve=gpd.read_file('POLYGON.shp')\n",
    "m= folium.Map([41.7023292727353, 12.34697305914639], zoom_start=12)\n",
    "folium.GeoJson(nReserve).add_to(m)\n"
   ]
  },
  {
   "cell_type": "code",
   "execution_count": 4,
   "id": "38e3ba29",
   "metadata": {},
   "outputs": [],
   "source": [
    "from shapely.geometry import MultiPolygon,Polygon\n",
    "\n",
    "footprint=None\n",
    "for i in nReserve['geometry']:\n",
    "    footprint=i"
   ]
  },
  {
   "cell_type": "code",
   "execution_count": 5,
   "id": "60f31375",
   "metadata": {},
   "outputs": [
    {
     "data": {
      "text/html": [
       "<div>\n",
       "<style scoped>\n",
       "    .dataframe tbody tr th:only-of-type {\n",
       "        vertical-align: middle;\n",
       "    }\n",
       "\n",
       "    .dataframe tbody tr th {\n",
       "        vertical-align: top;\n",
       "    }\n",
       "\n",
       "    .dataframe thead th {\n",
       "        text-align: right;\n",
       "    }\n",
       "</style>\n",
       "<table border=\"1\" class=\"dataframe\">\n",
       "  <thead>\n",
       "    <tr style=\"text-align: right;\">\n",
       "      <th></th>\n",
       "      <th>title</th>\n",
       "      <th>link</th>\n",
       "      <th>link_alternative</th>\n",
       "      <th>link_icon</th>\n",
       "      <th>summary</th>\n",
       "      <th>ondemand</th>\n",
       "      <th>generationdate</th>\n",
       "      <th>beginposition</th>\n",
       "      <th>endposition</th>\n",
       "      <th>ingestiondate</th>\n",
       "      <th>...</th>\n",
       "      <th>producttype</th>\n",
       "      <th>platformidentifier</th>\n",
       "      <th>orbitdirection</th>\n",
       "      <th>platformserialidentifier</th>\n",
       "      <th>processinglevel</th>\n",
       "      <th>datastripidentifier</th>\n",
       "      <th>granuleidentifier</th>\n",
       "      <th>identifier</th>\n",
       "      <th>uuid</th>\n",
       "      <th>geometry</th>\n",
       "    </tr>\n",
       "  </thead>\n",
       "  <tbody>\n",
       "    <tr>\n",
       "      <th>61770d74-fc3c-4bf7-8871-c2e1a1964682</th>\n",
       "      <td>S2B_MSIL2A_20220103T101319_N0301_R022_T30NZM_2...</td>\n",
       "      <td>https://scihub.copernicus.eu/dhus/odata/v1/Pro...</td>\n",
       "      <td>https://scihub.copernicus.eu/dhus/odata/v1/Pro...</td>\n",
       "      <td>https://scihub.copernicus.eu/dhus/odata/v1/Pro...</td>\n",
       "      <td>Date: 2022-01-03T10:13:19.024Z, Instrument: MS...</td>\n",
       "      <td>false</td>\n",
       "      <td>2022-01-03 13:06:28</td>\n",
       "      <td>2022-01-03 10:13:19.024</td>\n",
       "      <td>2022-01-03 10:13:19.024</td>\n",
       "      <td>2022-01-03 16:14:35.880</td>\n",
       "      <td>...</td>\n",
       "      <td>S2MSI2A</td>\n",
       "      <td>2017-013A</td>\n",
       "      <td>DESCENDING</td>\n",
       "      <td>Sentinel-2B</td>\n",
       "      <td>Level-2A</td>\n",
       "      <td>S2B_OPER_MSI_L2A_DS_VGS2_20220103T130628_S2022...</td>\n",
       "      <td>S2B_OPER_MSI_L2A_TL_VGS2_20220103T130628_A0252...</td>\n",
       "      <td>S2B_MSIL2A_20220103T101319_N0301_R022_T30NZM_2...</td>\n",
       "      <td>61770d74-fc3c-4bf7-8871-c2e1a1964682</td>\n",
       "      <td>MULTIPOLYGON (((0.69593 5.32864, 0.70242 6.319...</td>\n",
       "    </tr>\n",
       "  </tbody>\n",
       "</table>\n",
       "<p>1 rows × 41 columns</p>\n",
       "</div>"
      ],
      "text/plain": [
       "                                                                                  title  \\\n",
       "61770d74-fc3c-4bf7-8871-c2e1a1964682  S2B_MSIL2A_20220103T101319_N0301_R022_T30NZM_2...   \n",
       "\n",
       "                                                                                   link  \\\n",
       "61770d74-fc3c-4bf7-8871-c2e1a1964682  https://scihub.copernicus.eu/dhus/odata/v1/Pro...   \n",
       "\n",
       "                                                                       link_alternative  \\\n",
       "61770d74-fc3c-4bf7-8871-c2e1a1964682  https://scihub.copernicus.eu/dhus/odata/v1/Pro...   \n",
       "\n",
       "                                                                              link_icon  \\\n",
       "61770d74-fc3c-4bf7-8871-c2e1a1964682  https://scihub.copernicus.eu/dhus/odata/v1/Pro...   \n",
       "\n",
       "                                                                                summary  \\\n",
       "61770d74-fc3c-4bf7-8871-c2e1a1964682  Date: 2022-01-03T10:13:19.024Z, Instrument: MS...   \n",
       "\n",
       "                                     ondemand      generationdate  \\\n",
       "61770d74-fc3c-4bf7-8871-c2e1a1964682    false 2022-01-03 13:06:28   \n",
       "\n",
       "                                               beginposition  \\\n",
       "61770d74-fc3c-4bf7-8871-c2e1a1964682 2022-01-03 10:13:19.024   \n",
       "\n",
       "                                                 endposition  \\\n",
       "61770d74-fc3c-4bf7-8871-c2e1a1964682 2022-01-03 10:13:19.024   \n",
       "\n",
       "                                               ingestiondate  ...  \\\n",
       "61770d74-fc3c-4bf7-8871-c2e1a1964682 2022-01-03 16:14:35.880  ...   \n",
       "\n",
       "                                      producttype  platformidentifier  \\\n",
       "61770d74-fc3c-4bf7-8871-c2e1a1964682      S2MSI2A           2017-013A   \n",
       "\n",
       "                                      orbitdirection  \\\n",
       "61770d74-fc3c-4bf7-8871-c2e1a1964682      DESCENDING   \n",
       "\n",
       "                                      platformserialidentifier  \\\n",
       "61770d74-fc3c-4bf7-8871-c2e1a1964682               Sentinel-2B   \n",
       "\n",
       "                                      processinglevel  \\\n",
       "61770d74-fc3c-4bf7-8871-c2e1a1964682         Level-2A   \n",
       "\n",
       "                                                                    datastripidentifier  \\\n",
       "61770d74-fc3c-4bf7-8871-c2e1a1964682  S2B_OPER_MSI_L2A_DS_VGS2_20220103T130628_S2022...   \n",
       "\n",
       "                                                                      granuleidentifier  \\\n",
       "61770d74-fc3c-4bf7-8871-c2e1a1964682  S2B_OPER_MSI_L2A_TL_VGS2_20220103T130628_A0252...   \n",
       "\n",
       "                                                                             identifier  \\\n",
       "61770d74-fc3c-4bf7-8871-c2e1a1964682  S2B_MSIL2A_20220103T101319_N0301_R022_T30NZM_2...   \n",
       "\n",
       "                                                                      uuid  \\\n",
       "61770d74-fc3c-4bf7-8871-c2e1a1964682  61770d74-fc3c-4bf7-8871-c2e1a1964682   \n",
       "\n",
       "                                                                               geometry  \n",
       "61770d74-fc3c-4bf7-8871-c2e1a1964682  MULTIPOLYGON (((0.69593 5.32864, 0.70242 6.319...  \n",
       "\n",
       "[1 rows x 41 columns]"
      ]
     },
     "execution_count": 5,
     "metadata": {},
     "output_type": "execute_result"
    }
   ],
   "source": [
    "products=api.query(footprint,\n",
    "                  date=('20220101','20220105'),\n",
    "                  platformname='Sentinel-2',\n",
    "                  processinglevel='Level-2A',\n",
    "                  cloudcoverpercentage=(0,100)\n",
    "                  )\n",
    "products_gdf=api.to_geodataframe(products)\n",
    "products_gdf"
   ]
  },
  {
   "cell_type": "code",
   "execution_count": 7,
   "id": "918f87d4",
   "metadata": {},
   "outputs": [
    {
     "data": {
      "text/plain": [
       "{'id': '61770d74-fc3c-4bf7-8871-c2e1a1964682',\n",
       " 'title': 'S2B_MSIL2A_20220103T101319_N0301_R022_T30NZM_20220103T130628',\n",
       " 'size': 1022916743,\n",
       " 'md5': '1e0871dcfc2d23bdcc7aff36eb361d7f',\n",
       " 'date': datetime.datetime(2022, 1, 3, 10, 13, 19, 24000),\n",
       " 'footprint': 'POLYGON((-0.29058838 5.942901244057679,-0.2652588 6.057105675141865,-0.23187256 6.205550176563584,-0.23150635 6.207113654038569,-0.20462036 6.325444185204407,0.702421719319593 6.319844092498943,0.69592785066984 5.328635058393016,-0.29351807 5.333788966065655,-0.29058838 5.942901244057679))',\n",
       " 'url': \"https://scihub.copernicus.eu/dhus/odata/v1/Products('61770d74-fc3c-4bf7-8871-c2e1a1964682')/$value\",\n",
       " 'Online': True,\n",
       " 'Creation Date': datetime.datetime(2022, 1, 3, 16, 16, 21, 367000),\n",
       " 'Ingestion Date': datetime.datetime(2022, 1, 3, 16, 14, 35, 880000),\n",
       " 'quicklook_url': \"https://scihub.copernicus.eu/dhus/odata/v1/Products('61770d74-fc3c-4bf7-8871-c2e1a1964682')/Products('Quicklook')/$value\",\n",
       " 'path': 'S2B_MSIL2A_20220103T101319_N0301_R022_T30NZM_20220103T130628.zip',\n",
       " 'downloaded_bytes': 0}"
      ]
     },
     "execution_count": 7,
     "metadata": {},
     "output_type": "execute_result"
    }
   ],
   "source": [
    "api.download(\"61770d74-fc3c-4bf7-8871-c2e1a1964682\")"
   ]
  },
  {
   "cell_type": "code",
   "execution_count": 7,
   "id": "7b207f02",
   "metadata": {},
   "outputs": [
    {
     "data": {
      "text/html": [
       "<div>\n",
       "<style scoped>\n",
       "    .dataframe tbody tr th:only-of-type {\n",
       "        vertical-align: middle;\n",
       "    }\n",
       "\n",
       "    .dataframe tbody tr th {\n",
       "        vertical-align: top;\n",
       "    }\n",
       "\n",
       "    .dataframe thead th {\n",
       "        text-align: right;\n",
       "    }\n",
       "</style>\n",
       "<table border=\"1\" class=\"dataframe\">\n",
       "  <thead>\n",
       "    <tr style=\"text-align: right;\">\n",
       "      <th></th>\n",
       "      <th>title</th>\n",
       "      <th>link</th>\n",
       "      <th>link_alternative</th>\n",
       "      <th>link_icon</th>\n",
       "      <th>summary</th>\n",
       "      <th>ondemand</th>\n",
       "      <th>generationdate</th>\n",
       "      <th>beginposition</th>\n",
       "      <th>endposition</th>\n",
       "      <th>ingestiondate</th>\n",
       "      <th>...</th>\n",
       "      <th>producttype</th>\n",
       "      <th>platformidentifier</th>\n",
       "      <th>orbitdirection</th>\n",
       "      <th>platformserialidentifier</th>\n",
       "      <th>processinglevel</th>\n",
       "      <th>datastripidentifier</th>\n",
       "      <th>granuleidentifier</th>\n",
       "      <th>identifier</th>\n",
       "      <th>uuid</th>\n",
       "      <th>geometry</th>\n",
       "    </tr>\n",
       "  </thead>\n",
       "  <tbody>\n",
       "    <tr>\n",
       "      <th>61770d74-fc3c-4bf7-8871-c2e1a1964682</th>\n",
       "      <td>S2B_MSIL2A_20220103T101319_N0301_R022_T30NZM_2...</td>\n",
       "      <td>https://scihub.copernicus.eu/dhus/odata/v1/Pro...</td>\n",
       "      <td>https://scihub.copernicus.eu/dhus/odata/v1/Pro...</td>\n",
       "      <td>https://scihub.copernicus.eu/dhus/odata/v1/Pro...</td>\n",
       "      <td>Date: 2022-01-03T10:13:19.024Z, Instrument: MS...</td>\n",
       "      <td>false</td>\n",
       "      <td>2022-01-03 13:06:28</td>\n",
       "      <td>2022-01-03 10:13:19.024</td>\n",
       "      <td>2022-01-03 10:13:19.024</td>\n",
       "      <td>2022-01-03 16:14:35.880</td>\n",
       "      <td>...</td>\n",
       "      <td>S2MSI2A</td>\n",
       "      <td>2017-013A</td>\n",
       "      <td>DESCENDING</td>\n",
       "      <td>Sentinel-2B</td>\n",
       "      <td>Level-2A</td>\n",
       "      <td>S2B_OPER_MSI_L2A_DS_VGS2_20220103T130628_S2022...</td>\n",
       "      <td>S2B_OPER_MSI_L2A_TL_VGS2_20220103T130628_A0252...</td>\n",
       "      <td>S2B_MSIL2A_20220103T101319_N0301_R022_T30NZM_2...</td>\n",
       "      <td>61770d74-fc3c-4bf7-8871-c2e1a1964682</td>\n",
       "      <td>MULTIPOLYGON (((0.69593 5.32864, 0.70242 6.319...</td>\n",
       "    </tr>\n",
       "  </tbody>\n",
       "</table>\n",
       "<p>1 rows × 41 columns</p>\n",
       "</div>"
      ],
      "text/plain": [
       "                                                                                  title  \\\n",
       "61770d74-fc3c-4bf7-8871-c2e1a1964682  S2B_MSIL2A_20220103T101319_N0301_R022_T30NZM_2...   \n",
       "\n",
       "                                                                                   link  \\\n",
       "61770d74-fc3c-4bf7-8871-c2e1a1964682  https://scihub.copernicus.eu/dhus/odata/v1/Pro...   \n",
       "\n",
       "                                                                       link_alternative  \\\n",
       "61770d74-fc3c-4bf7-8871-c2e1a1964682  https://scihub.copernicus.eu/dhus/odata/v1/Pro...   \n",
       "\n",
       "                                                                              link_icon  \\\n",
       "61770d74-fc3c-4bf7-8871-c2e1a1964682  https://scihub.copernicus.eu/dhus/odata/v1/Pro...   \n",
       "\n",
       "                                                                                summary  \\\n",
       "61770d74-fc3c-4bf7-8871-c2e1a1964682  Date: 2022-01-03T10:13:19.024Z, Instrument: MS...   \n",
       "\n",
       "                                     ondemand      generationdate  \\\n",
       "61770d74-fc3c-4bf7-8871-c2e1a1964682    false 2022-01-03 13:06:28   \n",
       "\n",
       "                                               beginposition  \\\n",
       "61770d74-fc3c-4bf7-8871-c2e1a1964682 2022-01-03 10:13:19.024   \n",
       "\n",
       "                                                 endposition  \\\n",
       "61770d74-fc3c-4bf7-8871-c2e1a1964682 2022-01-03 10:13:19.024   \n",
       "\n",
       "                                               ingestiondate  ...  \\\n",
       "61770d74-fc3c-4bf7-8871-c2e1a1964682 2022-01-03 16:14:35.880  ...   \n",
       "\n",
       "                                      producttype  platformidentifier  \\\n",
       "61770d74-fc3c-4bf7-8871-c2e1a1964682      S2MSI2A           2017-013A   \n",
       "\n",
       "                                      orbitdirection  \\\n",
       "61770d74-fc3c-4bf7-8871-c2e1a1964682      DESCENDING   \n",
       "\n",
       "                                      platformserialidentifier  \\\n",
       "61770d74-fc3c-4bf7-8871-c2e1a1964682               Sentinel-2B   \n",
       "\n",
       "                                      processinglevel  \\\n",
       "61770d74-fc3c-4bf7-8871-c2e1a1964682         Level-2A   \n",
       "\n",
       "                                                                    datastripidentifier  \\\n",
       "61770d74-fc3c-4bf7-8871-c2e1a1964682  S2B_OPER_MSI_L2A_DS_VGS2_20220103T130628_S2022...   \n",
       "\n",
       "                                                                      granuleidentifier  \\\n",
       "61770d74-fc3c-4bf7-8871-c2e1a1964682  S2B_OPER_MSI_L2A_TL_VGS2_20220103T130628_A0252...   \n",
       "\n",
       "                                                                             identifier  \\\n",
       "61770d74-fc3c-4bf7-8871-c2e1a1964682  S2B_MSIL2A_20220103T101319_N0301_R022_T30NZM_2...   \n",
       "\n",
       "                                                                      uuid  \\\n",
       "61770d74-fc3c-4bf7-8871-c2e1a1964682  61770d74-fc3c-4bf7-8871-c2e1a1964682   \n",
       "\n",
       "                                                                               geometry  \n",
       "61770d74-fc3c-4bf7-8871-c2e1a1964682  MULTIPOLYGON (((0.69593 5.32864, 0.70242 6.319...  \n",
       "\n",
       "[1 rows x 41 columns]"
      ]
     },
     "execution_count": 7,
     "metadata": {},
     "output_type": "execute_result"
    }
   ],
   "source": [
    "products=api.query(footprint,\n",
    "                  date=('20220101','20220110'),\n",
    "                  platformname='Sentinel-2',\n",
    "                  processinglevel='Level-2A',\n",
    "                  cloudcoverpercentage=(0,50)\n",
    "                  )\n",
    "products_gdf=api.to_geodataframe(products)\n",
    "products_gdf"
   ]
  },
  {
   "cell_type": "code",
   "execution_count": 10,
   "id": "ab1a5e41",
   "metadata": {
    "scrolled": true
   },
   "outputs": [
    {
     "data": {
      "application/vnd.jupyter.widget-view+json": {
       "model_id": "cd54ca36353c43d4b899075619c87f25",
       "version_major": 2,
       "version_minor": 0
      },
      "text/plain": [
       "Downloading S2B_MSIL2A_20220103T101319_N0301_R022_T30NZM_20220103T130628.zip:   0%|          | 0.00/1.02G [00:…"
      ]
     },
     "metadata": {},
     "output_type": "display_data"
    },
    {
     "data": {
      "application/vnd.jupyter.widget-view+json": {
       "model_id": "",
       "version_major": 2,
       "version_minor": 0
      },
      "text/plain": [
       "MD5 checksumming:   0%|          | 0.00/1.02G [00:00<?, ?B/s]"
      ]
     },
     "metadata": {},
     "output_type": "display_data"
    },
    {
     "data": {
      "text/plain": [
       "{'id': '61770d74-fc3c-4bf7-8871-c2e1a1964682',\n",
       " 'title': 'S2B_MSIL2A_20220103T101319_N0301_R022_T30NZM_20220103T130628',\n",
       " 'size': 1022916743,\n",
       " 'md5': '1e0871dcfc2d23bdcc7aff36eb361d7f',\n",
       " 'date': datetime.datetime(2022, 1, 3, 10, 13, 19, 24000),\n",
       " 'footprint': 'POLYGON((-0.29058838 5.942901244057679,-0.2652588 6.057105675141865,-0.23187256 6.205550176563584,-0.23150635 6.207113654038569,-0.20462036 6.325444185204407,0.702421719319593 6.319844092498943,0.69592785066984 5.328635058393016,-0.29351807 5.333788966065655,-0.29058838 5.942901244057679))',\n",
       " 'url': \"https://scihub.copernicus.eu/dhus/odata/v1/Products('61770d74-fc3c-4bf7-8871-c2e1a1964682')/$value\",\n",
       " 'Online': True,\n",
       " 'Creation Date': datetime.datetime(2022, 1, 3, 16, 16, 21, 367000),\n",
       " 'Ingestion Date': datetime.datetime(2022, 1, 3, 16, 14, 35, 880000),\n",
       " 'quicklook_url': \"https://scihub.copernicus.eu/dhus/odata/v1/Products('61770d74-fc3c-4bf7-8871-c2e1a1964682')/Products('Quicklook')/$value\",\n",
       " 'path': 'S2B_MSIL2A_20220103T101319_N0301_R022_T30NZM_20220103T130628.zip',\n",
       " 'downloaded_bytes': 1022916743}"
      ]
     },
     "execution_count": 10,
     "metadata": {},
     "output_type": "execute_result"
    }
   ],
   "source": [
    "api.download(\"61770d74-fc3c-4bf7-8871-c2e1a1964682\")"
   ]
  }
 ],
 "metadata": {
  "interpreter": {
   "hash": "304cfa06767ea7157d7814bceb9ebcb6e81f73de64c0691d48941bcd0d1517d1"
  },
  "kernelspec": {
   "display_name": "geo_env",
   "language": "python",
   "name": "python3"
  },
  "language_info": {
   "codemirror_mode": {
    "name": "ipython",
    "version": 3
   },
   "file_extension": ".py",
   "mimetype": "text/x-python",
   "name": "python",
   "nbconvert_exporter": "python",
   "pygments_lexer": "ipython3",
   "version": "3.9.7"
  }
 },
 "nbformat": 4,
 "nbformat_minor": 5
}
